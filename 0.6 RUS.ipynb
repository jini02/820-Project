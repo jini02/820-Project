{
 "cells": [
  {
   "cell_type": "code",
   "execution_count": 12,
   "id": "5afda223-1bb8-4c79-808d-5356062bb972",
   "metadata": {},
   "outputs": [],
   "source": [
    "import pandas as pd\n",
    "import numpy as np\n",
    "\n",
    "import statsmodels.api as sm\n",
    "import scipy.stats as st\n",
    "import matplotlib.pyplot as plt\n",
    "%matplotlib inline\n",
    "from sklearn import metrics\n",
    "import seaborn as sns\n",
    "pd.set_option(\"display.max_columns\",None)\n",
    "# pd.set_option(\"display.max_rows\",None)\n",
    "from scipy.stats import shapiro,mannwhitneyu,chi2_contingency\n",
    "\n",
    "from sklearn.model_selection import train_test_split\n",
    "from sklearn.tree import DecisionTreeClassifier\n",
    "from sklearn import tree\n",
    "\n",
    "from IPython.display import Image\n",
    "# from sklearn.tree import export_graphviz\n",
    "import imblearn\n",
    "\n",
    "\n",
    "from numpy.random import seed\n",
    "from numpy.random import randn\n",
    "from numpy import mean\n",
    "from numpy import std\n",
    "\n",
    "\n",
    "import warnings \n",
    "warnings.filterwarnings('ignore')"
   ]
  },
  {
   "cell_type": "code",
   "execution_count": 13,
   "id": "ef4da4dc-6d6d-4a58-b244-dda1e9260a6f",
   "metadata": {},
   "outputs": [],
   "source": [
    "from sklearn.linear_model import LogisticRegression\n",
    "from sklearn.model_selection import cross_val_score\n",
    "from sklearn import metrics\n",
    "from sklearn import model_selection\n",
    "from sklearn.tree import DecisionTreeClassifier\n",
    "from sklearn.linear_model import LogisticRegression\n",
    "from sklearn.naive_bayes import GaussianNB\n",
    "from sklearn.neighbors import KNeighborsClassifier\n",
    "from sklearn.tree import DecisionTreeClassifier\n",
    "from sklearn.ensemble import RandomForestClassifier,BaggingClassifier,AdaBoostClassifier,GradientBoostingClassifier \n",
    "from sklearn.ensemble import VotingClassifier\n",
    "from sklearn.model_selection import RepeatedStratifiedKFold\n",
    "\n",
    "from sklearn.model_selection import train_test_split\n",
    "from sklearn.model_selection import KFold, StratifiedKFold\n",
    "from sklearn.metrics import precision_score, recall_score, f1_score, roc_auc_score, accuracy_score, classification_report,confusion_matrix"
   ]
  },
  {
   "cell_type": "code",
   "execution_count": 15,
   "id": "bdf73826-32bc-4ac9-95c9-9b95a7fb17cd",
   "metadata": {},
   "outputs": [],
   "source": [
    "df = pd.read_csv('C:/Users/nabee/Desktop/CIND 820/dffinal.csv')\n",
    "dfwork = df.copy()"
   ]
  },
  {
   "cell_type": "code",
   "execution_count": 16,
   "id": "0287c8d1-395b-47f3-892d-e1e706f9e924",
   "metadata": {},
   "outputs": [
    {
     "name": "stdout",
     "output_type": "stream",
     "text": [
      "Shape of x:  (12330, 51)\n",
      "Shape of y:  (12330,)\n",
      "Shape of x_train : (9864, 51)\n",
      "Shape of y_train : (9864,)\n",
      "Shape of x_test : (2466, 51)\n",
      "Shape of y_test : (2466,)\n"
     ]
    }
   ],
   "source": [
    "#Splitting Train and Test Data Set\n",
    "y = dfwork['Revenue']\n",
    "x = dfwork.drop(['Revenue'], axis = 1)\n",
    "\n",
    "# checking the shapes\n",
    "print(\"Shape of x: \", x.shape)\n",
    "print(\"Shape of y: \", y.shape)\n",
    "\n",
    "x_train, x_test, y_train, y_test = train_test_split(x, y, test_size =  0.2, random_state = 0)\n",
    "\n",
    "print(\"Shape of x_train :\", x_train.shape)\n",
    "print(\"Shape of y_train :\", y_train.shape)\n",
    "print(\"Shape of x_test :\", x_test.shape)\n",
    "print(\"Shape of y_test :\", y_test.shape)"
   ]
  },
  {
   "cell_type": "code",
   "execution_count": 17,
   "id": "e57642e3-8413-44a5-bd3c-4340dcf71428",
   "metadata": {},
   "outputs": [],
   "source": [
    "# Min Max Scaler \n",
    "from sklearn.preprocessing import MinMaxScaler\n",
    "scaler = MinMaxScaler()    \n",
    "scaler.fit(x_train)       \n",
    "x_train = scaler.transform(x_train)    \n",
    "x_test = scaler.transform(x_test)"
   ]
  },
  {
   "cell_type": "code",
   "execution_count": 18,
   "id": "cdbfaff2-7bfc-49a4-8a2c-3536e5befcfa",
   "metadata": {},
   "outputs": [],
   "source": [
    "import pandas as pd\n",
    "import matplotlib.pyplot as plt\n",
    "import seaborn as sns\n",
    "from sklearn.datasets import make_classification\n",
    "from sklearn.ensemble import RandomForestClassifier\n",
    "from sklearn.metrics import roc_auc_score\n",
    "from sklearn.model_selection import train_test_split\n",
    "from imblearn.under_sampling import RandomUnderSampler"
   ]
  },
  {
   "cell_type": "code",
   "execution_count": 19,
   "id": "418ff3e0-3012-4e57-bd19-57cc29903f0b",
   "metadata": {},
   "outputs": [],
   "source": [
    "rusd = RandomUnderSampler(sampling_strategy = 0.6 ,random_state = 0)"
   ]
  },
  {
   "cell_type": "code",
   "execution_count": 20,
   "id": "2cfebad6-942f-4a59-8784-58a24e1bf61a",
   "metadata": {},
   "outputs": [],
   "source": [
    "x_train, y_train = rusd.fit_resample(x_train, y_train)"
   ]
  },
  {
   "cell_type": "code",
   "execution_count": 21,
   "id": "6e8489f8-3d1b-46ff-b12a-9ec2dbab8b52",
   "metadata": {},
   "outputs": [
    {
     "name": "stdout",
     "output_type": "stream",
     "text": [
      "(3962, 51) (3962,)\n",
      "After UnderSampling, counts of label '1': 1486\n",
      "After UnderSampling, counts of label '0': 2476\n"
     ]
    }
   ],
   "source": [
    "print(x_train.shape,y_train.shape)\n",
    "print(\"After UnderSampling, counts of label '1': {}\".format(sum(y_train == 1)))\n",
    "print(\"After UnderSampling, counts of label '0': {}\".format(sum(y_train == 0)))"
   ]
  },
  {
   "cell_type": "code",
   "execution_count": 26,
   "id": "3cc49189-7816-4bc0-b595-8f3f478f588c",
   "metadata": {},
   "outputs": [],
   "source": [
    "# fitting models \n",
    "from sklearn.linear_model import LogisticRegression\n",
    "from sklearn.ensemble import RandomForestClassifier\n",
    "from sklearn.tree import DecisionTreeClassifier\n",
    "from sklearn.svm import SVC\n",
    "from sklearn.ensemble import AdaBoostClassifier\n",
    "from sklearn.ensemble import GradientBoostingClassifier\n",
    "import xgboost as xgb\n",
    "\n",
    "LR = LogisticRegression().fit(x_train, y_train)\n",
    "y_pred_lr = LR.predict(x_test)\n",
    "\n",
    "rf = RandomForestClassifier().fit(x_train,y_train)\n",
    "y_pred_rf = rf.predict(x_test)\n",
    "\n",
    "dt = DecisionTreeClassifier().fit(x_train,y_train)\n",
    "y_pred_dt = dt.predict(x_test)\n",
    "\n",
    "svc = SVC().fit(x_train,y_train)\n",
    "y_pred_svm = svc.predict(x_test)\n",
    "\n",
    "ada = AdaBoostClassifier().fit(x_train,y_train)\n",
    "y_pred_ada = ada.predict(x_test)\n",
    "\n",
    "gbc = GradientBoostingClassifier().fit(x_train,y_train)\n",
    "y_pred_gbc = gbc.predict(x_test)\n",
    "\n",
    "gb = xgb.XGBClassifier().fit(x_train,y_train)\n",
    "y_pred_gb = gb.predict(x_test)"
   ]
  },
  {
   "cell_type": "code",
   "execution_count": 11,
   "id": "dcd59e63-06c0-4f8c-9df4-c7b871b53fd7",
   "metadata": {},
   "outputs": [],
   "source": [
    "# K Fold Cross Validation\n",
    "def cv_comparison(models, X, y, cv = model_selection.RepeatedStratifiedKFold(n_splits=7, n_repeats=3, random_state=1)):\n",
    "    # Initiate a DataFrame for the averages and a list for all measures\n",
    "    cv_accuracies = pd.DataFrame()\n",
    "\n",
    "    # Loop through the models, run a CV, add the average scores to the DataFrame and the scores of \n",
    "    # all CVs to the list\n",
    "    for model in models:\n",
    "        recalls = cross_val_score(model, x_train, y_train, scoring='recall', cv=cv)\n",
    "        recall_score = np.mean(recalls).round(2)\n",
    "        precisions = cross_val_score(model, x_train, y_train, scoring='precision', cv=cv)\n",
    "        precision_score = np.mean(precisions).round(2)\n",
    "        accuracies = cross_val_score(model, x_train,y_train, scoring='accuracy', cv=cv)\n",
    "        accuracy_score = np.mean(accuracies).round(2)\n",
    "        aucs = cross_val_score(model, x_train,y_train, scoring='roc_auc', cv=cv)\n",
    "        auc_score = np.mean(aucs).round(2)\n",
    "        f1s = cross_val_score(model, x_train,y_train, scoring='f1', cv=cv)\n",
    "        f1_score = np.mean(accuracies).round(2)\n",
    "        cv_accuracies[str(model).split('(')[0]] = [ accuracy_score, precision_score, recall_score, auc_score, f1_score]\n",
    "    cv_accuracies.index = ['Accuracy','Precision','Recall',  'AUC','F1']\n",
    "    result = cv_accuracies.transpose()\n",
    "    return result\n",
    "    # return cv_accuracies"
   ]
  },
  {
   "cell_type": "code",
   "execution_count": 23,
   "id": "800973f5-f68d-47f8-ac68-3ce1400daeb3",
   "metadata": {},
   "outputs": [],
   "source": [
    "LR = LogisticRegression() \n",
    "RF = RandomForestClassifier()\n",
    "DT = DecisionTreeClassifier()\n",
    "NB = GaussianNB()\n",
    "SV = SVC()\n",
    "AD = AdaBoostClassifier()\n",
    "GB = GradientBoostingClassifier()\n",
    "XG = xgb.XGBClassifier()\n",
    "models = [LR,RF,DT,SV,AD,GB,XG]"
   ]
  },
  {
   "cell_type": "code",
   "execution_count": 24,
   "id": "4712cedf-4080-4314-a9a0-55b14300adf9",
   "metadata": {},
   "outputs": [
    {
     "ename": "NameError",
     "evalue": "name 'cv_comparison' is not defined",
     "output_type": "error",
     "traceback": [
      "\u001b[1;31m---------------------------------------------------------------------------\u001b[0m",
      "\u001b[1;31mNameError\u001b[0m                                 Traceback (most recent call last)",
      "Cell \u001b[1;32mIn[24], line 2\u001b[0m\n\u001b[0;32m      1\u001b[0m \u001b[38;5;28;01mimport\u001b[39;00m \u001b[38;5;21;01mpandas\u001b[39;00m \u001b[38;5;28;01mas\u001b[39;00m \u001b[38;5;21;01mpd\u001b[39;00m\n\u001b[1;32m----> 2\u001b[0m cv_comparison(models, x_train, y_train)\n",
      "\u001b[1;31mNameError\u001b[0m: name 'cv_comparison' is not defined"
     ]
    }
   ],
   "source": [
    "import pandas as pd\n",
    "cv_comparison(models, x_train, y_train)"
   ]
  },
  {
   "cell_type": "code",
   "execution_count": 27,
   "id": "e3782400-55bd-4967-9f82-3c1cc983c1a4",
   "metadata": {
    "scrolled": true
   },
   "outputs": [
    {
     "data": {
      "image/png": "[encoded data removed]",
      "text/plain": [
       "<Figure size 640x480 with 1 Axes>"
      ]
     },
     "metadata": {},
     "output_type": "display_data"
    }
   ],
   "source": [
    "from sklearn import metrics\n",
    "fpr, tpr, thresholds = metrics.roc_curve(y_test, e.predict_proba(x_test)[:,1])\n",
    "roc_auc = metrics.auc(fpr, tpr)\n",
    "display = metrics.RocCurveDisplay(fpr=fpr, tpr=tpr, roc_auc=roc_auc, estimator_name='Mean ROC')\n",
    "display.plot()  # doctest: +SKIP\n",
    "plt.show()      # doctest: +SKIP"
   ]
  }
 ],
 "metadata": {
  "kernelspec": {
   "display_name": "Python 3 (ipykernel)",
   "language": "python",
   "name": "python3"
  },
  "language_info": {
   "codemirror_mode": {
    "name": "ipython",
    "version": 3
   },
   "file_extension": ".py",
   "mimetype": "text/x-python",
   "name": "python",
   "nbconvert_exporter": "python",
   "pygments_lexer": "ipython3",
   "version": "3.12.4"
  }
 },
 "nbformat": 4,
 "nbformat_minor": 5
}
